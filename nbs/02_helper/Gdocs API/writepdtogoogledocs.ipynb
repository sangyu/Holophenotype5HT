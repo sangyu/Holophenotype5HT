{
 "cells": [
  {
   "cell_type": "code",
   "execution_count": 16,
   "id": "b55ec8ef-6575-4315-8413-dd3d810ce02a",
   "metadata": {},
   "outputs": [],
   "source": [
    "import pandas as pd\n",
    "from google.oauth2.credentials import Credentials\n",
    "from google_auth_oauthlib.flow import InstalledAppFlow\n",
    "from google.auth.transport.requests import Request\n",
    "from googleapiclient.discovery import build\n",
    "import os.path\n",
    "import pickle\n",
    "\n",
    "# If modifying these scopes, delete the file token.pickle.\n",
    "SCOPES = ['https://www.googleapis.com/auth/spreadsheets']\n",
    "def get_google_sheets_service():\n",
    "    creds = None\n",
    "    # The file token.json stores the user's access and refresh tokens, and is\n",
    "    # created automatically when the authorization flow completes for the first time.\n",
    "    if os.path.exists('token.json'):\n",
    "        creds = Credentials.from_authorized_user_file('token.json', SCOPES)\n",
    "    \n",
    "    # If there are no (valid) credentials available, let the user log in.\n",
    "    if not creds or not creds.valid:\n",
    "        if creds and creds.expired and creds.refresh_token:\n",
    "            creds.refresh(Request())\n",
    "        else:\n",
    "            flow = InstalledAppFlow.from_client_secrets_file(\n",
    "                '/Users/sangyuxu/Library/Mobile Documents/com~apple~CloudDocs/EspressoManu/Gdocs API/credentials.json', SCOPES)\n",
    "            creds = flow.run_local_server(port=0)\n",
    "            \n",
    "        # Save the credentials for the next run\n",
    "        with open('token.json', 'w') as token:\n",
    "            token.write(creds.to_json())\n",
    "\n",
    "    return build('sheets', 'v4', credentials=creds)\n"
   ]
  },
  {
   "cell_type": "code",
   "execution_count": 19,
   "id": "1e10c247-0bb2-4e76-aa22-fd8a8a8e6460",
   "metadata": {},
   "outputs": [
    {
     "ename": "NameError",
     "evalue": "name 'service' is not defined",
     "output_type": "error",
     "traceback": [
      "\u001b[0;31m---------------------------------------------------------------------------\u001b[0m",
      "\u001b[0;31mNameError\u001b[0m                                 Traceback (most recent call last)",
      "Cell \u001b[0;32mIn[19], line 66\u001b[0m\n\u001b[1;32m     63\u001b[0m cell_range \u001b[38;5;241m=\u001b[39m \u001b[38;5;124m'\u001b[39m\u001b[38;5;124mSheet1!A1\u001b[39m\u001b[38;5;124m'\u001b[39m  \u001b[38;5;66;03m# For cell A1 in Sheet1\u001b[39;00m\n\u001b[1;32m     64\u001b[0m value \u001b[38;5;241m=\u001b[39m \u001b[38;5;124m'\u001b[39m\u001b[38;5;124mHello World\u001b[39m\u001b[38;5;124m'\u001b[39m     \u001b[38;5;66;03m# The string you want to write\u001b[39;00m\n\u001b[0;32m---> 66\u001b[0m result \u001b[38;5;241m=\u001b[39m update_cell(\u001b[43mservice\u001b[49m, spreadsheet_id, cell_range, value)\n",
      "\u001b[0;31mNameError\u001b[0m: name 'service' is not defined"
     ]
    }
   ],
   "source": [
    "def dataframe_to_sheets(df, spreadsheet_id, sheet_name, start_cell='A1', clear_range=False):\n",
    "    \"\"\"\n",
    "    Write a Pandas DataFrame to a specific location in a Google Sheet.\n",
    "    \n",
    "    Parameters:\n",
    "    - df: pandas DataFrame to write\n",
    "    - spreadsheet_id: ID of the Google Sheet (from the URL)\n",
    "    - sheet_name: Name of the sheet to write to\n",
    "    - start_cell: Cell where to start writing (e.g., 'A1', 'B5')\n",
    "    - clear_range: Whether to clear the range before writing\n",
    "    \"\"\"\n",
    "    service = get_google_sheets_service()\n",
    "    \n",
    "    # Convert DataFrame to values list\n",
    "    values = [df.columns.tolist()] + df.values.tolist()\n",
    "    \n",
    "    # Calculate the range\n",
    "    col = ''.join(filter(str.isalpha, start_cell))\n",
    "    row = int(''.join(filter(str.isdigit, start_cell)))\n",
    "    end_col = chr(ord(col) + len(df.columns) - 1)\n",
    "    end_row = row + len(values) - 1\n",
    "    range_name = f'{sheet_name}!{start_cell}:{end_col}{end_row}'\n",
    "    \n",
    "    # Clear the range if requested\n",
    "    if clear_range:\n",
    "        service.spreadsheets().values().clear(\n",
    "            spreadsheetId=spreadsheet_id,\n",
    "            range=range_name\n",
    "        ).execute()\n",
    "    \n",
    "    # Write the values\n",
    "    body = {\n",
    "        'values': values\n",
    "    }\n",
    "    \n",
    "    result = service.spreadsheets().values().update(\n",
    "        spreadsheetId=spreadsheet_id,\n",
    "        range=range_name,\n",
    "        valueInputOption='RAW',\n",
    "        body=body\n",
    "    ).execute()\n",
    "    \n",
    "    return result\n",
    "\n",
    "\n",
    "def update_cell(spreadsheet_id, cell_range, value):\n",
    "    service = get_google_sheets_service()\n",
    "\n",
    "    body = {\n",
    "        'values': [[value]]  # Double brackets because we're sending a 2D array\n",
    "    }\n",
    "    \n",
    "    result = service.spreadsheets().values().update(\n",
    "        spreadsheetId=spreadsheet_id,\n",
    "        range=cell_range,\n",
    "        valueInputOption='RAW',\n",
    "        body=body\n",
    "    ).execute()\n",
    "    \n",
    "    return result\n",
    "def find_last_row_in_column(spreadsheet_id, sheet_name, column='A'):\n",
    "    service = get_google_sheets_service()\n",
    "    result = service.spreadsheets().values().get(\n",
    "        spreadsheetId=spreadsheet_id,\n",
    "        range=f'{sheet_name}!{column}:{column}'  # Just look at one column\n",
    "    ).execute()\n",
    "    \n",
    "    values = result.get('values', [])\n",
    "    \n",
    "    # Find last non-empty cell\n",
    "    last_row = 0\n",
    "    for i, row in enumerate(values):\n",
    "        if row and row[0].strip():  # Check if cell has non-empty value\n",
    "            last_row = i + 1\n",
    "    \n",
    "    return last_row if last_row > 0 else 1\n",
    "\n",
    "# Example usage:\n"
   ]
  },
  {
   "cell_type": "code",
   "execution_count": 22,
   "id": "906d7d45-27a4-4bde-8409-0f76e1e4ee02",
   "metadata": {},
   "outputs": [],
   "source": [
    "def write_results_table(SPREADSHEET_ID, title, table, sheet, starting_row = None):\n",
    "    if starting_row == None:\n",
    "        last_row = find_last_row_in_column(SPREADSHEET_ID, sheet, 'A')\n",
    "        print(last_row)\n",
    "    else:\n",
    "        last_row = starting_row\n",
    "    update_cell(SPREADSHEET_ID, sheet+'!A'+str(last_row+2), title )\n",
    "    dataframe_to_sheets(table.round(2).astype(str), SPREADSHEET_ID, sheet, 'A'+str(last_row+3), clear_range=True)"
   ]
  },
  {
   "cell_type": "code",
   "execution_count": null,
   "id": "4f0feec4-9db6-453d-b7d1-5d06489a60d2",
   "metadata": {},
   "outputs": [],
   "source": [
    "\n",
    "def make_delta_results(c, ctrlGeno, testGeno):\n",
    "    results = c.mean_diff.results[['control','test','control_N','test_N','effect_size','difference','bca_low','bca_high', 'pvalue_permutation']]\n",
    "    results = results.rename(columns={'control': 'control condition', 'test': 'test condition'})\n",
    "    results.insert(0, 'test genotype', [testGeno])\n",
    "    results.insert(0, 'control genotype', [ctrlGeno])\n",
    "    return results\n",
    "\n",
    "\n",
    "def make_delta2_results(c, ctrlGeno, testGeno):\n",
    "    results = c.mean_diff.results[['control','test','control_N','test_N','effect_size','difference','bca_low','bca_high', 'pvalue_permutation']]\n",
    "    results = results.rename(columns={'control': 'control condition', 'test': 'test condition'})\n",
    "    # print(results)\n",
    "    new_row = pd.DataFrame({'control condition': results.loc[0, 'test condition'] + ' - ' + results.loc[0, 'control condition'],\n",
    "                            'test condition': results.loc[1, 'test condition'] + ' - ' +  results.loc[1, 'control condition'],\n",
    "                            'effect_size': ['Delta Delta'],\n",
    "                            'control_N': [5000],\n",
    "                            'test_N': [5000],\n",
    "                            'difference': c.mean_diff.delta_delta.difference,\n",
    "                            'bca_low': c.mean_diff.delta_delta.bca_low,\n",
    "                            'bca_high': c.mean_diff.delta_delta.bca_high,\n",
    "                            'pvalue_permutation': c.mean_diff.delta_delta.pvalue_permutation\n",
    "                           })\n",
    "    results = pd.concat([results, new_row], ignore_index=True)\n",
    "    results.insert(0, 'test genotype', [testGeno, testGeno, ''])\n",
    "    results.insert(0, 'control genotype', [ctrlGeno, ctrlGeno, ''])\n",
    "    return results"
   ]
  },
  {
   "cell_type": "code",
   "execution_count": null,
   "id": "439dd598-7da1-480f-af18-e67b3cea0346",
   "metadata": {},
   "outputs": [],
   "source": []
  },
  {
   "cell_type": "code",
   "execution_count": 18,
   "id": "033695e2-ed3d-49be-86fc-d849699d0f26",
   "metadata": {},
   "outputs": [
    {
     "name": "stdout",
     "output_type": "stream",
     "text": [
      "Please visit this URL to authorize this application: https://accounts.google.com/o/oauth2/auth?response_type=code&client_id=353793915331-eqquk98jeo8d5s9hi7dn9p934k92m04t.apps.googleusercontent.com&redirect_uri=http%3A%2F%2Flocalhost%3A61748%2F&scope=https%3A%2F%2Fwww.googleapis.com%2Fauth%2Fspreadsheets&state=VRL1DkrrYh4Ac7aVbWcpSLYlLEZIFe&access_type=offline\n"
     ]
    },
    {
     "data": {
      "text/plain": [
       "<googleapiclient.discovery.Resource at 0x1440bdf90>"
      ]
     },
     "execution_count": 18,
     "metadata": {},
     "output_type": "execute_result"
    }
   ],
   "source": [
    "get_google_sheets_service()"
   ]
  },
  {
   "cell_type": "code",
   "execution_count": null,
   "id": "08743fed-78c3-4c55-917c-bddcda6ab389",
   "metadata": {},
   "outputs": [],
   "source": []
  }
 ],
 "metadata": {
  "kernelspec": {
   "display_name": "Python 3 (ipykernel)",
   "language": "python",
   "name": "python3"
  },
  "language_info": {
   "codemirror_mode": {
    "name": "ipython",
    "version": 3
   },
   "file_extension": ".py",
   "mimetype": "text/x-python",
   "name": "python",
   "nbconvert_exporter": "python",
   "pygments_lexer": "ipython3",
   "version": "3.10.16"
  }
 },
 "nbformat": 4,
 "nbformat_minor": 5
}
