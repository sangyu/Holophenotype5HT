{
 "cells": [
  {
   "cell_type": "code",
   "execution_count": null,
   "metadata": {},
   "outputs": [],
   "source": [
    "#| hide\n",
    "from Holophenotype5HT.core import *"
   ]
  },
  {
   "cell_type": "markdown",
   "metadata": {},
   "source": [
    "# Holophenotype5HT\n",
    "\n",
    "> Code used in \"Concurrent tracking of feeding and locomotion unveils serotonergic control of satiety in Drosophila\""
   ]
  },
  {
   "cell_type": "markdown",
   "metadata": {},
   "source": [
    "## How to use"
   ]
  },
  {
   "cell_type": "markdown",
   "metadata": {},
   "source": [
    "[Jupyter notebooks](https://github.com/sangyu/Holophenotype5HT/tree/main/nbs/01_Figures) that generate figure panels which roughly follow the order of appearance in the manuscript in this location \n",
    "\n",
    "[Figures20250212](https://github.com/sangyu/Holophenotype5HT/tree/main/nbs/Figures20250212) contains figure panels and assembled svgs.\n"
   ]
  },
  {
   "cell_type": "markdown",
   "metadata": {},
   "source": []
  }
 ],
 "metadata": {
  "kernelspec": {
   "display_name": "python3",
   "language": "python",
   "name": "python3"
  }
 },
 "nbformat": 4,
 "nbformat_minor": 4
}
