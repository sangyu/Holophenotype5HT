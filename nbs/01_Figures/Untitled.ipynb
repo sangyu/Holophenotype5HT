{
 "cells": [
  {
   "cell_type": "code",
   "execution_count": null,
   "id": "4376696b-b39d-4f41-93cb-44823376065d",
   "metadata": {},
   "outputs": [
    {
     "data": {
      "text/plain": [
       "['/Users/sangyuxu/Library/Fonts/NotoSans-ExtraCondensedExtraLightItalic.ttf',\n",
       " '/Users/sangyuxu/Library/Fonts/NotoSans-Regular.ttf',\n",
       " '/Users/sangyuxu/Library/Fonts/NotoSans-CondensedThinItalic.ttf',\n",
       " '/Users/sangyuxu/Library/Fonts/NotoSans-ExtraCondensedThinItalic.ttf',\n",
       " '/Users/sangyuxu/Library/Fonts/Inter-Black.ttf',\n",
       " '/Users/sangyuxu/Library/Fonts/FiraSans-SemiBoldItalic.otf',\n",
       " '/Users/sangyuxu/Library/Fonts/NotoSans-SemiCondensedBold.ttf',\n",
       " '/Users/sangyuxu/Library/Fonts/FiraSans-Light.otf',\n",
       " '/Users/sangyuxu/Library/Fonts/NotoSans-CondensedExtraBoldItalic.ttf',\n",
       " '/Users/sangyuxu/Library/Fonts/SourceSansPro-LightIt.otf',\n",
       " '/Users/sangyuxu/Library/Fonts/Inter-Medium.ttf',\n",
       " '/Users/sangyuxu/Library/Fonts/NotoSans-SemiCondensedBoldItalic.ttf',\n",
       " '/Users/sangyuxu/Library/Fonts/NotoSans-CondensedThin.ttf',\n",
       " '/Users/sangyuxu/Library/Fonts/Inter-Light.ttf',\n",
       " '/Users/sangyuxu/Library/Fonts/SourceSansPro-Semibold.otf',\n",
       " '/Users/sangyuxu/Library/Fonts/FiraSans-Bold.otf',\n",
       " '/Users/sangyuxu/Library/Fonts/NotoSans-ExtraCondensedExtraBold.ttf',\n",
       " '/Users/sangyuxu/Library/Fonts/NotoSans-ExtraLight.ttf',\n",
       " '/Users/sangyuxu/Library/Fonts/SourceSansPro-SemiboldIt.otf',\n",
       " '/Users/sangyuxu/Library/Fonts/NotoSans-SemiCondensedLight.ttf',\n",
       " '/Users/sangyuxu/Library/Fonts/NotoSans-ExtraCondensedMediumItalic.ttf',\n",
       " '/Users/sangyuxu/Library/Fonts/NotoSans-SemiCondensedThin.ttf',\n",
       " '/Users/sangyuxu/Library/Fonts/NotoSans-SemiCondensedSemiBoldItalic.ttf',\n",
       " '/Users/sangyuxu/Library/Fonts/NotoSans-ExtraCondensedMedium.ttf',\n",
       " '/Users/sangyuxu/Library/Fonts/NotoSans-ExtraCondensedThin.ttf',\n",
       " '/Users/sangyuxu/Library/Fonts/NotoSans-ExtraBold.ttf',\n",
       " '/Users/sangyuxu/Library/Fonts/SourceSansPro-BoldIt.otf',\n",
       " '/Users/sangyuxu/Library/Fonts/NotoSans-CondensedBoldItalic.ttf',\n",
       " '/Users/sangyuxu/Library/Fonts/NotoSans-BlackItalic.ttf',\n",
       " '/Users/sangyuxu/Library/Fonts/SourceSansPro-Light.otf',\n",
       " '/Users/sangyuxu/Library/Fonts/FiraSans-Medium.otf',\n",
       " '/Users/sangyuxu/Library/Fonts/NotoSans-SemiCondensedExtraBold.ttf',\n",
       " '/Users/sangyuxu/Library/Fonts/FiraSans-ExtraLight.otf',\n",
       " '/Users/sangyuxu/Library/Fonts/NotoSans-CondensedMediumItalic.ttf',\n",
       " '/Users/sangyuxu/Library/Fonts/NotoSans-SemiCondensedSemiBold.ttf',\n",
       " '/Users/sangyuxu/Library/Fonts/SourceSansPro-It.otf',\n",
       " '/Users/sangyuxu/Library/Fonts/FiraSans-Book.otf',\n",
       " '/Users/sangyuxu/Library/Fonts/FiraSans-Heavy.otf',\n",
       " '/Users/sangyuxu/Library/Fonts/FiraSans-HairItalic.otf',\n",
       " '/Users/sangyuxu/Library/Fonts/NotoSans-SemiCondensedItalic.ttf',\n",
       " '/Users/sangyuxu/Library/Fonts/FiraSans-ThinItalic.otf',\n",
       " '/Users/sangyuxu/Library/Fonts/FiraSans-ExtraBoldItalic.otf',\n",
       " '/Users/sangyuxu/Library/Fonts/FiraSans-Italic.otf',\n",
       " '/Users/sangyuxu/Library/Fonts/FiraSans-ExtraLightItalic.otf',\n",
       " '/Users/sangyuxu/Library/Fonts/NotoSans-SemiCondensedThinItalic.ttf',\n",
       " '/Users/sangyuxu/Library/Fonts/SourceSansPro-Black.otf',\n",
       " '/Users/sangyuxu/Library/Fonts/NotoSans-Light.ttf',\n",
       " '/Users/sangyuxu/Library/Fonts/FiraSans-Two.otf',\n",
       " '/Users/sangyuxu/Library/Fonts/NotoSans-CondensedBlack.ttf',\n",
       " '/Users/sangyuxu/Library/Fonts/NotoSans-SemiCondensedExtraLight.ttf',\n",
       " '/Users/sangyuxu/Library/Fonts/NotoSans-Bold.ttf',\n",
       " '/Users/sangyuxu/Library/Fonts/NotoSans-SemiCondensed.ttf',\n",
       " '/Users/sangyuxu/Library/Fonts/NotoSans-ExtraBoldItalic.ttf',\n",
       " '/Users/sangyuxu/Library/Fonts/FiraSans-MediumItalic.otf',\n",
       " '/Users/sangyuxu/Library/Fonts/FiraSans-BoldItalic.otf',\n",
       " '/Users/sangyuxu/Library/Fonts/FiraSans-TwoItalic.otf',\n",
       " '/Users/sangyuxu/Library/Fonts/SourceSansPro-Bold.otf',\n",
       " '/Users/sangyuxu/Library/Fonts/NotoSans-ExtraCondensedBlackItalic.ttf',\n",
       " '/Users/sangyuxu/Library/Fonts/FiraSans-Hair.otf',\n",
       " '/Users/sangyuxu/Library/Fonts/Inter-SemiBold.ttf',\n",
       " '/Users/sangyuxu/Library/Fonts/SourceSansPro-ExtraLightIt.otf',\n",
       " '/Users/sangyuxu/Library/Fonts/Inter-Thin.ttf',\n",
       " '/Users/sangyuxu/Library/Fonts/NotoSans-ExtraLightItalic.ttf',\n",
       " '/Users/sangyuxu/Library/Fonts/NotoSans-ExtraCondensedBold.ttf',\n",
       " '/Users/sangyuxu/Library/Fonts/NotoSans-ExtraCondensedBoldItalic.ttf',\n",
       " '/Users/sangyuxu/Library/Fonts/NotoSans-ExtraCondensedBlack.ttf',\n",
       " '/Users/sangyuxu/Library/Fonts/NotoSans-SemiCondensedLightItalic.ttf',\n",
       " '/Users/sangyuxu/Library/Fonts/NotoSans-CondensedExtraBold.ttf',\n",
       " '/Users/sangyuxu/Library/Fonts/NotoSans-ExtraCondensedItalic.ttf',\n",
       " '/Users/sangyuxu/Library/Fonts/NotoSans-CondensedSemiBold.ttf',\n",
       " '/Users/sangyuxu/Library/Fonts/NotoSans-SemiCondensedBlackItalic.ttf',\n",
       " '/Users/sangyuxu/Library/Fonts/SourceSansPro-BlackIt.otf',\n",
       " '/Users/sangyuxu/Library/Fonts/NotoSans-Italic.ttf',\n",
       " '/Users/sangyuxu/Library/Fonts/NotoSans-ExtraCondensedLight.ttf',\n",
       " '/Users/sangyuxu/Library/Fonts/FiraSans-FourItalic.otf',\n",
       " '/Users/sangyuxu/Library/Fonts/FiraSans-HeavyItalic.otf',\n",
       " '/Users/sangyuxu/Library/Fonts/NotoSans-SemiCondensedMediumItalic.ttf',\n",
       " '/Users/sangyuxu/Library/Fonts/FiraSans-LightItalic.otf',\n",
       " '/Users/sangyuxu/Library/Fonts/NotoSans-ExtraCondensedExtraLight.ttf',\n",
       " '/Users/sangyuxu/Library/Fonts/FiraSans-UltraLightItalic.otf',\n",
       " '/Users/sangyuxu/Library/Fonts/NotoSans-Thin.ttf',\n",
       " '/Users/sangyuxu/Library/Fonts/FiraSans-ExtraBold.otf',\n",
       " '/Users/sangyuxu/Library/Fonts/NotoSans-ExtraCondensedSemiBold.ttf',\n",
       " '/Users/sangyuxu/Library/Fonts/FiraSans-UltraItalic.otf',\n",
       " '/Users/sangyuxu/Library/Fonts/NotoSans-SemiCondensedMedium.ttf',\n",
       " '/Users/sangyuxu/Library/Fonts/FiraSans-Ultra.otf',\n",
       " '/Users/sangyuxu/Library/Fonts/SourceSansPro-Regular.otf',\n",
       " '/Users/sangyuxu/Library/Fonts/NotoSans-SemiBoldItalic.ttf',\n",
       " '/Users/sangyuxu/Library/Fonts/FiraSans-SemiBold.otf',\n",
       " '/Users/sangyuxu/Library/Fonts/NotoSans-SemiCondensedExtraBoldItalic.ttf',\n",
       " '/Users/sangyuxu/Library/Fonts/NotoSans-CondensedExtraLightItalic.ttf',\n",
       " '/Users/sangyuxu/Library/Fonts/FiraSans-UltraLight.otf',\n",
       " '/Users/sangyuxu/Library/Fonts/NotoSans-SemiCondensedBlack.ttf',\n",
       " '/Users/sangyuxu/Library/Fonts/NotoSans-SemiBold.ttf',\n",
       " '/Users/sangyuxu/Library/Fonts/NotoSans-LightItalic.ttf',\n",
       " '/Users/sangyuxu/Library/Fonts/FiraSans-Thin.otf',\n",
       " '/Users/sangyuxu/Library/Fonts/NotoSans-CondensedLight.ttf',\n",
       " '/Users/sangyuxu/Library/Fonts/FiraSans-Four.otf',\n",
       " '/Users/sangyuxu/Library/Fonts/FiraSans-Regular.otf',\n",
       " '/Users/sangyuxu/Library/Fonts/NotoSans-Black.ttf',\n",
       " '/Users/sangyuxu/Library/Fonts/NotoSans-CondensedBold.ttf',\n",
       " '/Users/sangyuxu/Library/Fonts/SourceSansPro-ExtraLight.otf',\n",
       " '/Users/sangyuxu/Library/Fonts/NotoSans-ExtraCondensedExtraBoldItalic.ttf',\n",
       " '/Users/sangyuxu/Library/Fonts/NotoSans-Medium.ttf',\n",
       " '/Users/sangyuxu/Library/Fonts/Inter-Bold.ttf',\n",
       " '/Users/sangyuxu/Library/Fonts/FiraSans-BookItalic.otf',\n",
       " '/Users/sangyuxu/Library/Fonts/NotoSans-ExtraCondensedSemiBoldItalic.ttf',\n",
       " '/Users/sangyuxu/Library/Fonts/NotoSans-CondensedMedium.ttf',\n",
       " '/Users/sangyuxu/Library/Fonts/NotoSans-MediumItalic.ttf',\n",
       " '/Users/sangyuxu/Library/Fonts/NotoSans-ExtraCondensedLightItalic.ttf',\n",
       " '/Users/sangyuxu/Library/Fonts/NotoSans-Condensed.ttf',\n",
       " '/Users/sangyuxu/Library/Fonts/Inter-Regular.ttf',\n",
       " '/Users/sangyuxu/Library/Fonts/NotoSans-CondensedSemiBoldItalic.ttf',\n",
       " '/Users/sangyuxu/Library/Fonts/NotoSans-CondensedBlackItalic.ttf',\n",
       " '/Users/sangyuxu/Library/Fonts/NotoSans-SemiCondensedExtraLightItalic.ttf',\n",
       " '/Users/sangyuxu/Library/Fonts/Inter-ExtraBold.ttf',\n",
       " '/Users/sangyuxu/Library/Fonts/NotoSans-CondensedLightItalic.ttf',\n",
       " '/Users/sangyuxu/Library/Fonts/NotoSans-CondensedItalic.ttf',\n",
       " '/Users/sangyuxu/Library/Fonts/NotoSans-CondensedExtraLight.ttf',\n",
       " '/Users/sangyuxu/Library/Fonts/NotoSans-ExtraCondensed.ttf',\n",
       " '/Users/sangyuxu/Library/Fonts/FiraSans-Eight.otf',\n",
       " '/Users/sangyuxu/Library/Fonts/FiraSans-EightItalic.otf',\n",
       " '/Users/sangyuxu/Library/Fonts/Inter-ExtraLight.ttf',\n",
       " '/Users/sangyuxu/Library/Fonts/NotoSans-BoldItalic.ttf',\n",
       " '/Users/sangyuxu/Library/Fonts/NotoSans-ThinItalic.ttf']"
      ]
     },
     "execution_count": null,
     "metadata": {},
     "output_type": "execute_result"
    }
   ],
   "source": [
    "from matplotlib import font_manager\n",
    "font_manager.findSystemFonts(fontpaths='/Users/sangyuxu/Library/Fonts', fontext=\"ttf\")"
   ]
  },
  {
   "cell_type": "code",
   "execution_count": null,
   "id": "b60141bb-8fe9-46e7-81e6-f564e00ab219",
   "metadata": {},
   "outputs": [
    {
     "name": "stderr",
     "output_type": "stream",
     "text": [
      "findfont: Font family ['NotoSans'] not found. Falling back to DejaVu Sans.\n"
     ]
    },
    {
     "data": {
      "text/plain": [
       "'/Applications/anaconda3/envs/espmanu/lib/python3.9/site-packages/matplotlib/mpl-data/fonts/ttf/DejaVuSans.ttf'"
      ]
     },
     "execution_count": null,
     "metadata": {},
     "output_type": "execute_result"
    }
   ],
   "source": [
    "font_manager.findfont(\"NotoSans\")"
   ]
  },
  {
   "cell_type": "code",
   "execution_count": null,
   "id": "69fb2c1d-0bdf-44d0-9125-115740da0699",
   "metadata": {},
   "outputs": [],
   "source": []
  },
  {
   "cell_type": "code",
   "execution_count": null,
   "id": "46d5c3b7-e97c-438b-baf4-5adce7d4515f",
   "metadata": {},
   "outputs": [],
   "source": []
  }
 ],
 "metadata": {
  "kernelspec": {
   "display_name": "python3",
   "language": "python",
   "name": "python3"
  }
 },
 "nbformat": 4,
 "nbformat_minor": 5
}
