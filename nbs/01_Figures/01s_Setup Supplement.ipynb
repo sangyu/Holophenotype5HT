{
 "cells": [
  {
   "cell_type": "code",
   "execution_count": null,
   "id": "427de0a4-ab4f-4afb-99be-2a1078263460",
   "metadata": {},
   "outputs": [],
   "source": [
    "#| default_exp 01s_Setup Supplement"
   ]
  },
  {
   "cell_type": "code",
   "execution_count": null,
   "id": "22510b22-63a5-468e-8ecc-7d7a6e115cf7",
   "metadata": {},
   "outputs": [],
   "source": [
    "#| hide\n",
    "from nbdev.showdoc import *"
   ]
  },
  {
   "cell_type": "code",
   "execution_count": null,
   "id": "8046e6eb-b3a6-4585-b53e-c5575b46db56",
   "metadata": {},
   "outputs": [],
   "source": [
    "#| export\n",
    "import svgutils\n",
    "from svgutils.compose import *\n",
    "import dabest\n",
    "import matplotlib.pyplot as plt\n",
    "plt.style.use('seaborn-colorblind')\n",
    "import esploco.plotTools\n",
    "from esploco.plotTools import setFont\n",
    "setFont('inter', 6)\n",
    "plt.style.use('seaborn-colorblind')\n",
    "import seaborn as sns\n",
    "import matplotlib.pyplot as plt\n",
    "plt.rcParams['svg.fonttype'] = 'none'\n",
    "import pickle\n",
    "import pandas as pd\n",
    "import scipy\n",
    "import numpy as np\n",
    "import dabest\n",
    "from matplotlib import font_manager\n",
    "import matplotlib\n",
    "font_dirs = [\"/Users/sangyuxu/Library/Fonts\"]\n",
    "font_files = font_manager.findSystemFonts(fontpaths=font_dirs)\n",
    "\n",
    "for font_file in font_files:\n",
    "    font_manager.fontManager.addfont(font_file)\n",
    "matplotlib.font_manager.findSystemFonts(fontpaths=None, fontext='ttf')\n",
    "\n",
    "paperpath = '/Users/sangyuxu/Library/Mobile Documents/com~apple~CloudDocs/EspressoManu/'\n",
    "picklepath = paperpath + 'DataforFigures/Behavior/Data/pickles/'\n",
    "imagepath = paperpath + 'Figures20240202/'\n",
    "figurepath = imagepath + '/Figure1/'\n",
    "with open(picklepath+ 'W1118Dark_e.pickle', 'rb') as f:\n",
    "            W1118Dark_e = pickle.load(f)\n",
    "with open(picklepath + 'W1118Dark_ele.pickle', 'rb') as f:\n",
    "            W1118Dark_ele = pickle.load(f)\n",
    "W1118Dark_ele.outputFolder = imagepath + '/W1118Dark/'\n",
    "cm = W1118Dark_ele.cm"
   ]
  },
  {
   "cell_type": "code",
   "execution_count": null,
   "id": "46aa8210-b5d0-4be8-8c7b-be92a05935ca",
   "metadata": {},
   "outputs": [],
   "source": []
  },
  {
   "cell_type": "code",
   "execution_count": null,
   "id": "c2331e06-1a6f-4d81-a6f0-103f65be426f",
   "metadata": {},
   "outputs": [],
   "source": []
  },
  {
   "cell_type": "code",
   "execution_count": null,
   "id": "e90b9984-1627-4daf-9ae6-d23681cf5124",
   "metadata": {},
   "outputs": [],
   "source": []
  },
  {
   "cell_type": "code",
   "execution_count": null,
   "id": "4131d393-6f62-4f00-8d3c-9b8663f3718b",
   "metadata": {},
   "outputs": [],
   "source": []
  }
 ],
 "metadata": {
  "kernelspec": {
   "display_name": "python3",
   "language": "python",
   "name": "python3"
  }
 },
 "nbformat": 4,
 "nbformat_minor": 5
}
