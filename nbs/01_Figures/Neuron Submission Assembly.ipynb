{
 "cells": [
  {
   "cell_type": "code",
   "execution_count": null,
   "id": "5cb4dd6c-ae80-486e-bfcd-205bc6c8da8d",
   "metadata": {},
   "outputs": [],
   "source": [
    "#| default_exp 04_Holophenotype_Dendrogram"
   ]
  },
  {
   "cell_type": "code",
   "execution_count": null,
   "id": "f6972804-4ce9-42d3-a501-2d6b481c0001",
   "metadata": {},
   "outputs": [],
   "source": [
    "#| hide\n",
    "from nbdev.showdoc import *"
   ]
  },
  {
   "cell_type": "code",
   "execution_count": 28,
   "id": "b7e9e243-660c-4c3f-b1f9-ab6f71345ce8",
   "metadata": {},
   "outputs": [],
   "source": [
    "#| export\n",
    "import svgutils\n",
    "from svgutils.compose import *\n",
    "import dabest\n",
    "import matplotlib.pyplot as plt\n",
    "import esploco.plotTools\n",
    "from esploco.plotTools import setFont\n",
    "setFont('Inter', 6)\n",
    "import seaborn as sns\n",
    "import matplotlib.pyplot as plt\n",
    "from matplotlib import font_manager\n",
    "import matplotlib\n",
    "font_dirs = [\"/Users/sangyuxu/Library/Fonts\"]\n",
    "font_files = font_manager.findSystemFonts(fontpaths=font_dirs)\n",
    "for font_file in font_files:\n",
    "    font_manager.fontManager.addfont(font_file)\n",
    "matplotlib.font_manager.findSystemFonts(fontpaths=None, fontext='ttf')\n",
    "plt.rcParams['svg.fonttype'] = 'none'\n",
    "import pickle\n",
    "%run spiral_heatmap.ipynb\n",
    "import dabest\n",
    "import seaborn as sns\n",
    "import pandas as pd\n",
    "import numpy as np\n",
    "import matplotlib.pyplot as plt\n",
    "import esploco.plotTools as plotTools\n",
    "plotTools.setFont('inter', 9)\n",
    "paperpath = '/Users/sangyuxu/Library/Mobile Documents/com~apple~CloudDocs/EspressoManu/'\n",
    "picklepath = paperpath + 'DataforFigures/Behavior/Data/pickles/'\n",
    "imagepath = paperpath + 'Figures20240202/'\n",
    "svgpath = imagepath+ '/NeuronSVGs/'"
   ]
  },
  {
   "cell_type": "code",
   "execution_count": null,
   "id": "e19f46b8-4fa2-4e31-a2e2-6c46ed85e938",
   "metadata": {},
   "outputs": [],
   "source": []
  },
  {
   "cell_type": "code",
   "execution_count": 85,
   "id": "9892e7de-1e48-4eda-9730-b1139fff9962",
   "metadata": {},
   "outputs": [],
   "source": [
    "#Figure 4\n",
    "from svgutils.compose import *\n",
    "\n",
    "Figure(\"14.5cm\", \"13cm\", \n",
    "    Panel(SVG(panelpath + 'heatmap_trhcsch.svg').scale(0.03),\n",
    "    Text(\"A\", 0, 0.2, size=0.3, font = 'inter', weight='bold') ).move(0.5, 0.5),\n",
    "    Panel(SVG(panelpath + 'heatmap_trhAcr.svg').scale(0.03),\n",
    "    Text(\"B\", 0, 0.2, size=0.3, font = 'inter', weight='bold') ).move(7.5, 0.5),\n",
    "    Panel(SVG(panelpath + 'heatmap_R50H05csch.svg').scale(0.03),\n",
    "    Text(\"C\", 0, 0.2, size=0.3, font = 'inter', weight='bold') ).move(0.5, 4.3),\n",
    "    Panel(SVG(panelpath + 'heatmap_R50H05acr.svg').scale(0.03),\n",
    "    Text(\"D\", 0, 0.2, size=0.3, font = 'inter', weight='bold') ).move(7.5, 4.3),\n",
    "    Panel(SVG(panelpath + 'Height.svg').scale(0.015),\n",
    "    Text(\"E\", 0, 0.2, size=0.3, font = 'inter', weight='bold') ).move(0.5, 9),\n",
    "    Panel(SVG(panelpath + 'Latency.svg').scale(0.015),\n",
    "    Text(\"F\",0, 0.2, size=0.3, font = 'inter', weight='bold') ).move(4, 9),\n",
    "    Panel(SVG(panelpath + 'Speed.svg').scale(0.015),\n",
    "    Text(\"G\",0, 0.2, size=0.3, font = 'inter', weight='bold') ).move(7.5, 9),\n",
    "    Panel(SVG(panelpath + 'Perifeed Speed Ratio.svg').scale(0.015),\n",
    "    Text(\"H\",0, 0.2, size=0.3, font = 'inter', weight='bold') ).move(11, 9),\n",
    "        ).save(svgpath+\"/Figure4.svg\")\n"
   ]
  },
  {
   "cell_type": "code",
   "execution_count": null,
   "id": "31eb69b1-f1f4-4ba3-8445-2d1e76386d3e",
   "metadata": {},
   "outputs": [],
   "source": []
  },
  {
   "cell_type": "code",
   "execution_count": null,
   "id": "7fd0e4cd-d3ab-4e81-9619-b1335ecf56a5",
   "metadata": {},
   "outputs": [],
   "source": []
  },
  {
   "cell_type": "code",
   "execution_count": null,
   "id": "25f25866-fbea-4eb6-b355-ddfed891af4f",
   "metadata": {},
   "outputs": [],
   "source": []
  },
  {
   "cell_type": "code",
   "execution_count": null,
   "id": "4e53c10b-bec1-400f-906d-ba11f05adf61",
   "metadata": {},
   "outputs": [],
   "source": []
  },
  {
   "cell_type": "code",
   "execution_count": null,
   "id": "261104c8-b1bb-4a76-9217-b5437df0ca6b",
   "metadata": {},
   "outputs": [],
   "source": []
  },
  {
   "cell_type": "code",
   "execution_count": null,
   "id": "61570891-ceba-4bd4-a90e-9dcff037f142",
   "metadata": {},
   "outputs": [],
   "source": []
  },
  {
   "cell_type": "code",
   "execution_count": 127,
   "id": "d76a933a-c5e4-4eb2-8a2a-1ea296820b12",
   "metadata": {},
   "outputs": [],
   "source": [
    "from svgutils.compose import *\n",
    "figurepath = imagepath + '/Figure3/'\n",
    "panelpath = figurepath + '/panels and data/'\n",
    "Figure(\"18cm\", \"24cm\", \n",
    "    Panel(SVG(panelpath + 'trh_normal.svg').scale(0.01),\n",
    "    Text(\"A\", -0.4, 0, size=0.3, font = 'Inter', weight='bold'),  ).move(1, .4),\n",
    "    Panel(SVG(panelpath + 'R50_normal.svg').scale(0.01),\n",
    "    Text(\"B\", -0.4, 0, size=0.3, font = 'Inter', weight='bold'),  ).move(6, .4),\n",
    "    Panel(SVG(figurepath + 'starvationtimelineATR.svg').scale(0.017),\n",
    "    Text(\"C\", -0.2, 0, size=0.3, font = 'inter', weight='bold') ).move(10.5, .4),\n",
    "    Panel(SVG(panelpath + 'TrhCsCh_Raster.svg').scale(0.020),\n",
    "    Text(\"D\", .6, .1, size=0.3, font = 'inter', weight='bold') ).move(0, 3.5),\n",
    "    Panel(SVG(panelpath + 'TrhACR1_raster.svg').scale(0.020),\n",
    "    Text(\"E\", .6, .1, size=0.3, font = 'inter', weight='bold') ).move(5.7, 3.5),\n",
    "    Panel(SVG(panelpath + 'TrhCsCh_Vcontrast.svg').scale(0.014),\n",
    "    Text(\"F\", -0.2, 0.3, size=0.3, font = 'inter', weight='bold') ).move(13, 3.3),\n",
    "    Panel(SVG(panelpath + 'TrhACR1_Vcontrast.svg').scale(0.014),\n",
    "    Text(\"G\", -0.2, 0.3, size=0.3, font = 'inter', weight='bold') ).move(13, 7.5),\n",
    "    Panel(SVG(panelpath + 'R50CsCh_raster.svg').scale(0.020),\n",
    "    Text(\"H\", .6, .1, size=0.3, font = 'inter', weight='bold') ).move(0, 11.6),\n",
    "    Panel(SVG(panelpath + 'R50ACR1_raster.svg').scale(0.020),\n",
    "    Text(\"I\", .6, .1, size=0.3, font = 'inter', weight='bold') ).move(5.7, 11.6),\n",
    "    Panel(SVG(panelpath + 'R50CsCh_Vcontrast.svg').scale(0.014),\n",
    "    Text(\"J\", -0.2, 0.3, size=0.3, font = 'inter', weight='bold') ).move(13, 11.4),\n",
    "    Panel(SVG(panelpath + 'R50ACR1_Vcontrast.svg').scale(0.014),\n",
    "    Text(\"K\", -0.2, 0.3, size=0.3, font = 'inter', weight='bold') ).move(13, 15.6),\n",
    "    Panel(SVG(panelpath + 'Volume.svg').scale(0.017),\n",
    "    Text(\"L\", -0.2, 0.3, size=0.3, font = 'inter', weight='bold') ).move(1, 20),\n",
    "    Panel(SVG(panelpath + 'Duration.svg').scale(0.017),\n",
    "    Text(\"M\", -0.2, 0.3, size=0.3, font = 'inter', weight='bold') ).move(5, 20),\n",
    "    Panel(SVG(panelpath + 'Meal Size.svg').scale(0.017),\n",
    "    Text(\"N\", -0.2, 0.3, size=0.3, font = 'inter', weight='bold') ).move(9, 20),\n",
    "    Panel(SVG(panelpath + 'Count.svg').scale(0.017),\n",
    "    Text(\"O\", -0.2, 0.3, size=0.3, font = 'inter', weight='bold') ).move(13, 20),\n",
    "    # Panel(SVG(panelpath + 'Duration.svg').scale(0.015),\n",
    "    # Text(\"m\", -0.1, 0.2, size=0.3, font = 'inter', weight='bold') ).move(4.5, 12.5),\n",
    "    # Panel(SVG(panelpath + 'Meal Size.svg').scale(0.015),\n",
    "    # Text(\"n\", -0.1, 0.2, size=0.3, font = 'inter', weight='bold') ).move(8, 12.5),\n",
    "    # Panel(SVG(panelpath + 'Count.svg').scale(0.015),\n",
    "    # Text(\"o\", -0.1, 0.2, size=0.3, font = 'inter', weight='bold') ).move(11.5, 12.5),       \n",
    "       # Panel(SVG(panelpath + 'TrhACR1_raster.svg').scale(0.015),\n",
    "    # Text(\"e\", 0.2, 0.1, size=0.3, font = 'inter', weight='bold') ).move(9.5, .4),\n",
    "    # Panel(SVG(panelpath + 'R50CsCh_raster.svg').scale(0.015),\n",
    "    # Text(\"f\", 0.2, 0.1, size=0.3, font = 'inter', weight='bold') ).move(5, 5),\n",
    "    # Panel(SVG(panelpath + 'R50ACR1_raster.svg').scale(0.015),\n",
    "    # Text(\"g\", 0.2, 0.1, size=0.3, font = 'inter', weight='bold') ).move(9.5, 5),\n",
    "       \n",
    "    ).save(svgpath+\"/Figure3.svg\")\n",
    "\n"
   ]
  },
  {
   "cell_type": "markdown",
   "id": "b86d6dfb-398c-4cac-a18a-d3ecf71cce7b",
   "metadata": {},
   "source": [
    "# Figure 3"
   ]
  },
  {
   "cell_type": "code",
   "execution_count": 6,
   "id": "f01d4711-2b3e-4d63-ae34-2ccde14b678f",
   "metadata": {},
   "outputs": [],
   "source": [
    "\n",
    "\n",
    "Figure(\"16cm\", \"17cm\", \n",
    "    Panel(SVG(panelpath + 'trhr50_normal.svg').scale(0.0085),\n",
    "    Text(\"a\", -0.2, 0, size=0.3, font = 'Inter', weight='bold'), \n",
    "    # Text(\"Trh>Chr\", 0.2, .2, size=0.2, font = 'Inter', weight='italic', color = 'white'), \n",
    "    Text(\"b\", -0.2, 2.4, size=0.3, font = 'Inter', weight='bold'), \n",
    "    # Text(\"R50H05>Chr\", 0.2, 2.4, size=0.2, font = 'Inter', weight='italic', color = 'white') \n",
    "         ).move(1, .4),\n",
    "    # Panel(SVG(figurepath + 'trhcsch_inverted.svg').scale(0.004),\n",
    "    # Text(\"b\", 0, 0, size=0.3, font = 'inter', weight='bold') ).move(1, 3),\n",
    "    Panel(SVG(panelpath + 'starvationprotocol.svg').scale(0.009),\n",
    "    Text(\"c\", -0.2, -.2, size=0.3, font = 'inter', weight='bold') ).move(1, 5.7),\n",
    "    Panel(SVG(panelpath + 'TrhCsCh_Raster.svg').scale(0.015),\n",
    "    Text(\"d\", 0.2, 0.1, size=0.3, font = 'inter', weight='bold') ).move(5, .4),\n",
    "    Panel(SVG(panelpath + 'TrhACR1_raster.svg').scale(0.015),\n",
    "    Text(\"e\", 0.2, 0.1, size=0.3, font = 'inter', weight='bold') ).move(9.5, .4),\n",
    "    Panel(SVG(panelpath + 'R50CsCh_raster.svg').scale(0.015),\n",
    "    Text(\"f\", 0.2, 0.1, size=0.3, font = 'inter', weight='bold') ).move(5, 5),\n",
    "    Panel(SVG(panelpath + 'R50ACR1_raster.svg').scale(0.015),\n",
    "    Text(\"g\", 0.2, 0.1, size=0.3, font = 'inter', weight='bold') ).move(9.5, 5),\n",
    "       \n",
    "    Panel(SVG(panelpath + 'TrhCsCh_Vcontrast.svg').scale(0.01),\n",
    "    Text(\"h\", -0.2, 0.2, size=0.3, font = 'inter', weight='bold') ).move(1, 9.5),\n",
    "    Panel(SVG(panelpath + 'TrhACR1_Vcontrast.svg').scale(0.01),\n",
    "    Text(\"i\", -0.2, 0.2, size=0.3, font = 'inter', weight='bold') ).move(4.5, 9.5),\n",
    "    Panel(SVG(panelpath + 'R50CsCh_Vcontrast.svg').scale(0.01),\n",
    "    Text(\"j\",-0.2, 0.2, size=0.3, font = 'inter', weight='bold') ).move(8, 9.5),\n",
    "    Panel(SVG(panelpath + 'R50ACR1_Vcontrast.svg').scale(0.01),\n",
    "    Text(\"k\", -0.2, 0.2, size=0.3, font = 'inter', weight='bold') ).move(11.5, 9.5),\n",
    "       \n",
    "    Panel(SVG(panelpath + 'Volume.svg').scale(0.015),\n",
    "    Text(\"l\", -0.1, 0.2, size=0.3, font = 'inter', weight='bold') ).move(1, 12.5),\n",
    "    Panel(SVG(panelpath + 'Duration.svg').scale(0.015),\n",
    "    Text(\"m\", -0.1, 0.2, size=0.3, font = 'inter', weight='bold') ).move(4.5, 12.5),\n",
    "    Panel(SVG(panelpath + 'Meal Size.svg').scale(0.015),\n",
    "    Text(\"n\", -0.1, 0.2, size=0.3, font = 'inter', weight='bold') ).move(8, 12.5),\n",
    "    Panel(SVG(panelpath + 'Count.svg').scale(0.015),\n",
    "    Text(\"o\", -0.1, 0.2, size=0.3, font = 'inter', weight='bold') ).move(11.5, 12.5),\n",
    "    ).save(svgpath+\"/Figure3.svg\")\n",
    "\n"
   ]
  },
  {
   "cell_type": "code",
   "execution_count": null,
   "id": "e16309f6-6b04-4d93-ae5a-e9dc2ec63feb",
   "metadata": {},
   "outputs": [],
   "source": []
  },
  {
   "cell_type": "markdown",
   "id": "55185919-0877-4439-90ad-d67e1be4055d",
   "metadata": {},
   "source": [
    "# Figure Ethomics"
   ]
  },
  {
   "cell_type": "code",
   "execution_count": null,
   "id": "0376d6cb-e316-4572-9489-24f5d16351f4",
   "metadata": {},
   "outputs": [],
   "source": []
  },
  {
   "cell_type": "markdown",
   "id": "604e5089-8c2d-422f-b530-c38ea319a218",
   "metadata": {},
   "source": [
    "# Supplemental Ethomics"
   ]
  },
  {
   "cell_type": "code",
   "execution_count": null,
   "id": "efce0610-6bc8-408b-9407-410429931b4c",
   "metadata": {},
   "outputs": [],
   "source": []
  },
  {
   "cell_type": "code",
   "execution_count": 109,
   "id": "3166cc84-5b67-4646-8a61-9c27128e8db3",
   "metadata": {},
   "outputs": [],
   "source": [
    "## from svgutils.compose import *\n",
    "figurepath = imagepath + '/Figure1/'\n",
    "\n",
    "Figure(\"21cm\", \"17cm\", \n",
    "    Panel(SVG(figurepath + 'corr_all.svg').scale(0.03),\n",
    "    Text(\"A\", 0.8, 0.5, size=0.5, font = 'inter', weight='bold') ).move(-0.5, 1),\n",
    "    Panel(SVG(figurepath + 'cooreg.svg').scale(0.030),\n",
    "    Text(\"B\", 0.4, 0.2, size=0.5, font = 'inter', weight='bold'), \n",
    "    Text(\"C\", 4, 0.2, size=0.5, font = 'inter', weight='bold') , \n",
    "    Text(\"D\", 7.6, 0.2, size=0.5, font = 'inter', weight='bold'),  \n",
    "    Text(\"E\", 0.4, 4, size=0.5, font = 'inter', weight='bold'),  \n",
    "    Text(\"F\", 4, 4, size=0.5, font = 'inter', weight='bold'),  \n",
    "    Text(\"G\", 7.6, 4, size=0.5, font = 'inter', weight='bold'),  ).move(10, 0.8),\n",
    "    Panel(SVG(figurepath + 'corr_0.svg').scale(0.017),\n",
    "    Text(\"H\", 0.2, 0.2, size=.5, font = 'inter', weight='bold') ).move(0, 9),\n",
    "    Panel(SVG(figurepath + 'corr_24.svg').scale(0.017),\n",
    "    Text(\"I\", 0.2, 0.2, size=.5, font = 'inter', weight='bold') ).move(5, 9),\n",
    "    Panel(SVG(figurepath + 'corr_48.svg').scale(0.017),\n",
    "    Text(\"J\", 0.2, 0.2, size=.5, font = 'inter', weight='bold') ).move(10, 9),\n",
    "    Panel(SVG(figurepath + 'corr_contrast.svg').scale(0.015),\n",
    "    Text(\"K\", -1, 1.2, size=.5, font = 'inter', weight='bold') ).move(17, 8),\n",
    "    Panel(SVG(figurepath + 'componentsexplained.svg').scale(0.023),\n",
    "    Text(\"L\", 0.2, 0, size=0.5, font = 'inter', weight='bold') ).move(0, 14),\n",
    "      ).save(svgpath+\"/FigureSupplementalEthomics.svg\")\n",
    "\n"
   ]
  },
  {
   "cell_type": "code",
   "execution_count": 27,
   "id": "34921b8f-5db7-46cf-a694-167c3405f4bf",
   "metadata": {},
   "outputs": [],
   "source": [
    "## from svgutils.compose import *\n",
    "\n",
    "Figure(\"22cm\", \"30cm\", \n",
    "    Panel(SVG(figurepath + 'corr_0.svg').scale(0.030),\n",
    "    Text(\"A\", 0.2, 0.2, size=.5, font = 'inter', weight='bold') ).move(0, 1),\n",
    "    Panel(SVG(figurepath + 'corr_24.svg').scale(0.030),\n",
    "    Text(\"B\", 0.2, 0.2, size=.5, font = 'inter', weight='bold') ).move(11, 1),\n",
    "    Panel(SVG(figurepath + 'corr_48.svg').scale(0.030),\n",
    "    Text(\"C\", 0.2, 0.2, size=.5, font = 'inter', weight='bold') ).move(0, 10),\n",
    "    Panel(SVG(figurepath + 'cooreg.svg').scale(0.030),\n",
    "    Text(\"D\", 0.2, 0.2, size=0.5, font = 'inter', weight='bold'), \n",
    "    Text(\"E\", 4.2, 0.2, size=0.5, font = 'inter', weight='bold') , \n",
    "    Text(\"F\", 8.2, 0.2, size=0.5, font = 'inter', weight='bold'),  \n",
    "    Text(\"G\", 0.2, 4.2, size=0.5, font = 'inter', weight='bold'),  \n",
    "    Text(\"H\", 4.2, 4.2, size=0.5, font = 'inter', weight='bold'),  \n",
    "    Text(\"I\", 8.2, 4.2, size=0.5, font = 'inter', weight='bold'),  ).move(11,10),\n",
    "    Panel(SVG(figurepath + 'corr_contrast.svg').scale(0.020),\n",
    "    Text(\"J\", -1, 1, size=.5, font = 'inter', weight='bold') ).move(1.2, 18),\n",
    "    Panel(SVG(figurepath + 'componentsexplained.svg').scale(0.040),\n",
    "    Text(\"K\", 0.2, 0, size=0.5, font = 'inter', weight='bold') ).move(6, 20),\n",
    "      ).save(svgpath+\"/Figure2Supp1.svg\")\n",
    "\n"
   ]
  },
  {
   "cell_type": "code",
   "execution_count": null,
   "id": "14d4ad9f-bf90-4760-8444-f3d646da6f0c",
   "metadata": {},
   "outputs": [],
   "source": []
  },
  {
   "cell_type": "code",
   "execution_count": null,
   "id": "42866e0f-4d52-4358-952c-4d6e027db366",
   "metadata": {},
   "outputs": [],
   "source": []
  },
  {
   "cell_type": "code",
   "execution_count": null,
   "id": "cc4867b6-83f4-4ab2-8424-2b0c132174c9",
   "metadata": {},
   "outputs": [],
   "source": []
  },
  {
   "cell_type": "code",
   "execution_count": null,
   "id": "def8359e-8354-4dd1-9413-1f3aecc03b31",
   "metadata": {},
   "outputs": [],
   "source": []
  },
  {
   "cell_type": "code",
   "execution_count": null,
   "id": "012aba79-b1ef-4b4c-904f-6b96ee8bae6e",
   "metadata": {},
   "outputs": [],
   "source": []
  },
  {
   "cell_type": "code",
   "execution_count": null,
   "id": "2006ce42-0615-4986-919d-19505a716c63",
   "metadata": {},
   "outputs": [],
   "source": []
  },
  {
   "cell_type": "code",
   "execution_count": null,
   "id": "3cb92ec0-468f-4aff-a4da-e90c7d2c0209",
   "metadata": {},
   "outputs": [],
   "source": []
  },
  {
   "cell_type": "code",
   "execution_count": null,
   "id": "f1f04f9a-b512-4f5c-9d0f-4cc5341501ac",
   "metadata": {},
   "outputs": [],
   "source": []
  }
 ],
 "metadata": {
  "kernelspec": {
   "display_name": "Python 3 (ipykernel)",
   "language": "python",
   "name": "python3"
  },
  "language_info": {
   "codemirror_mode": {
    "name": "ipython",
    "version": 3
   },
   "file_extension": ".py",
   "mimetype": "text/x-python",
   "name": "python",
   "nbconvert_exporter": "python",
   "pygments_lexer": "ipython3",
   "version": "3.10.16"
  }
 },
 "nbformat": 4,
 "nbformat_minor": 5
}
