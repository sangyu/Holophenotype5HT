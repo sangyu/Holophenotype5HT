{
 "cells": [
  {
   "cell_type": "code",
   "execution_count": null,
   "id": "954926e4-de6c-43a7-ba4b-1db7991fb151",
   "metadata": {},
   "outputs": [],
   "source": [
    "\n",
    "# setFont('inter', 11)\n",
    "contrastbar_alpha = .15\n",
    "rm_size = .4\n",
    "es_size = 6\n",
    "\n",
    "dt_kwargs = {'ha':'center','va': 'bottom', 'fontsize': 9, 'x_location': 'left'}\n",
    "cb_kwargs = {'alpha':contrastbar_alpha}\n",
    "sb_kwargs = {'alpha':contrastbar_alpha}"
   ]
  },
  {
   "cell_type": "code",
   "execution_count": null,
   "id": "4a5efb1b-daf5-410b-ac6d-e3ad3aef1a80",
   "metadata": {},
   "outputs": [],
   "source": []
  }
 ],
 "metadata": {
  "kernelspec": {
   "display_name": "python3",
   "language": "python",
   "name": "python3"
  }
 },
 "nbformat": 4,
 "nbformat_minor": 5
}
