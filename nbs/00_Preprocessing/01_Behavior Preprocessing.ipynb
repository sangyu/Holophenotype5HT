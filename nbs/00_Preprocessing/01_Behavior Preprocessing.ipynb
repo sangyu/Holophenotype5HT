{
 "cells": [
  {
   "cell_type": "markdown",
   "metadata": {},
   "source": [
    "# Data Preprocessing\n",
    "\n",
    "> Fill in a module description here"
   ]
  },
  {
   "cell_type": "code",
   "execution_count": null,
   "metadata": {},
   "outputs": [],
   "source": [
    "#| default_exp preprocessing"
   ]
  },
  {
   "cell_type": "code",
   "execution_count": null,
   "metadata": {},
   "outputs": [],
   "source": [
    "#| hide\n",
    "from nbdev.showdoc import *"
   ]
  },
  {
   "cell_type": "code",
   "execution_count": 1,
   "metadata": {},
   "outputs": [
    {
     "name": "stderr",
     "output_type": "stream",
     "text": [
      "Fontconfig warning: ignoring UTF-8: not a valid region tag\n"
     ]
    }
   ],
   "source": [
    "#| export\n",
    "from esploco import esploco\n",
    "from espresso import espresso\n",
    "import os\n",
    "import pickle\n",
    "import pandas as pd\n",
    "\n",
    "def preprocessData(input_path, output_path):\n",
    "    for i in os.listdir(input_path):\n",
    "        os.listdir(input_path)\n",
    "        # if i != '.DS_Store':\n",
    "        if i == 'SXVNC1ACR1' :\n",
    "            datapath = input_path + '/' + i\n",
    "            print(datapath)\n",
    "            e = espresso(datapath, expt_duration_minutes=120)\n",
    "            ele = esploco.esploco(datapath, 0, 120, companionEspObj = e)\n",
    "            ele.calculatePeriFeedSpeed(\n",
    "                e,\n",
    "                monitorWindow=120, maxDuration_s = 100,  maxFeedSpeed_nl_s = 15,\n",
    "                startSeconds=0,plotContrast=False)\n",
    "            ele.calculateFallEvents()\n",
    "            ele.feedsRevisedDf['Starved hrs'] = ele.feedsRevisedDf['Starved hrs'].dropna().astype('str')\n",
    "            ele.feedsRevisedDf['Starvedhrs'] = ele.feedsRevisedDf['Starved hrs'].astype('str')\n",
    "            print(ele.feedsRevisedDf.columns)\n",
    "            with open(output_path + i + '_ele.pickle', 'wb') as f:\n",
    "                # Pickle the 'data' dictionary using the highest protocol available.\n",
    "                pickle.dump(ele, f, pickle.HIGHEST_PROTOCOL)\n",
    "                \n",
    "            with open(output_path + i + '_e.pickle', 'wb') as f:\n",
    "            # Pickle the 'data' dictionary using the highest protocol available.\n",
    "                pickle.dump(e, f, pickle.HIGHEST_PROTOCOL)\n",
    "            data = ele.resultsDf[['Temperature', 'Genotype', 'Status', 'ID', 'Starvedhrs', 'MealSizePerFly_µL',\n",
    "           'AverageFeedSpeedPerFly_µl/s', 'MeanSpeed120sBeforeFeed_mm/s',\n",
    "           'MeanSpeedDuringFeed_mm/s', 'MeanSpeed120sAfterFeed_mm/s',\n",
    "           'MeanMealDurationPerFly_s', 'AverageFeedVolumePerFly_µl', 'AverageFeedCountPerFly',\n",
    "           'AverageFeedDurationPerFly_min', 'Latency_min',\n",
    "           'duringBeforeSpeedRatio', 'afterBeforeSpeedRatio',\n",
    "            'averageSpeed_mm/s', 'yPosition_mm', 'inLeftPort', 'inRightPort',\n",
    "                                'falls',\n",
    "                                'feedLogDate']]\n",
    "            renamecolumns = {'Starvedhrs': 'Starvation', \n",
    "                     'MealSizePerFly_µL': 'Meal Size',\n",
    "           'AverageFeedSpeedPerFly_µl/s' :'Feed Speed', \n",
    "                     'MeanSpeed120sBeforeFeed_mm/s': 'Prefeed Speed',\n",
    "           'MeanSpeedDuringFeed_mm/s': 'Duringfeed Speed', \n",
    "                     'MeanSpeed120sAfterFeed_mm/s': 'Postfeed Speed',\n",
    "           'MeanMealDurationPerFly_s': 'Meal Duration',\n",
    "                     'AverageFeedVolumePerFly_µl': 'Volume', \n",
    "                     'AverageFeedCountPerFly': 'Count',\n",
    "           'AverageFeedDurationPerFly_min': 'Duration', \n",
    "                     'Latency_min':'Latency',\n",
    "           'duringBeforeSpeedRatio' : 'Duringfeed Speed Ratio',\n",
    "                     'afterBeforeSpeedRatio': 'Perifeed Speed Ratio',\n",
    "            'averageSpeed_mm/s' : 'Speed', \n",
    "                     'yPosition_mm': 'Height', \n",
    "                     'inLeftPort': 'Food Port Occupancy', \n",
    "                     'inRightPort': 'Ctrl Port Occupancy',\n",
    "                     'falls': 'Falls', \n",
    "                                 'feedLogDate':'date' , 'Temperature': 'Light'}\n",
    "    \n",
    "            data = data.rename(columns = renamecolumns)\n",
    "            data = data.sort_values(by = 'Status').sort_values(by = 'Light')\n",
    "            data = data.drop(data.loc[data['Genotype']== 'Empty'].index, axis = 0)\n",
    "            data['Starvation'] = data['Starvation'].astype(str)\n",
    "            # data = data.drop(data.loc[np.isnan(data['Starvation'])].index, axis = 0)\n",
    "            print(len(data))\n",
    "            data.to_csv(output_path+ '/' + i + '_ele.csv', index = False)"
   ]
  },
  {
   "cell_type": "code",
   "execution_count": 3,
   "metadata": {},
   "outputs": [
    {
     "name": "stdout",
     "output_type": "stream",
     "text": [
      "/Users/sangyuxu/Library/Mobile Documents/com~apple~CloudDocs/EspressoManu/DataforFigures/Behavior/Data/Novel VNC Splits/SXVNC1ACR1\n",
      "countLog files found: \n",
      "\n",
      "['CountLog_2024-06-07_11-59-26.csv' 'CountLog_2024-06-13_15-33-58.csv'\n",
      " 'CountLog_2024-06-13_18-00-11.csv']\n",
      "\n",
      "metaData files found: \n",
      "\n",
      "['MetaData_2024-06-07_11-59-26.csv' 'MetaData_2024-06-07_11-59-30.csv'\n",
      " 'MetaData_2024-06-13_15-33-58.csv' 'MetaData_2024-06-13_15-34-02.csv'\n",
      " 'MetaData_2024-06-13_18-00-11.csv' 'MetaData_2024-06-13_18-00-14.csv']\n",
      "portLocations files found: \n",
      "\n",
      "['PortLocations_2024-06-07_11-59-30.csv'\n",
      " 'PortLocations_2024-06-13_15-34-02.csv'\n",
      " 'PortLocations_2024-06-13_18-00-14.csv']\n",
      "\n",
      "feedLog files found: \n",
      "\n",
      "['FeedLog_2024-06-07_11-59-30.csv' 'FeedLog_2024-06-13_15-34-02.csv'\n",
      " 'FeedLog_2024-06-13_18-00-14.csv']\n",
      "CountLog_2024-06-07_11-59-26.csv\n",
      "MetaData_2024-06-07_11-59-26.csv\n"
     ]
    },
    {
     "name": "stderr",
     "output_type": "stream",
     "text": [
      "/Applications/anaconda3/envs/SerotoninEthomics/lib/python3.10/site-packages/espresso/_munger/munger.py:160: FutureWarning: The frame.append method is deprecated and will be removed from pandas in a future version. Use pandas.concat instead.\n",
      "  return f.append(all_padrows, ignore_index=True, sort=False)\n",
      "/Applications/anaconda3/envs/SerotoninEthomics/lib/python3.10/site-packages/espresso/_munger/munger.py:302: FutureWarning: The `inplace` parameter in pandas.Categorical.remove_unused_categories is deprecated and will be removed in a future version.\n",
      "  df.loc[:, c].cat.remove_unused_categories(inplace=True)\n",
      "/Applications/anaconda3/envs/SerotoninEthomics/lib/python3.10/site-packages/espresso/_munger/munger.py:302: FutureWarning: The `inplace` parameter in pandas.Categorical.remove_unused_categories is deprecated and will be removed in a future version.\n",
      "  df.loc[:, c].cat.remove_unused_categories(inplace=True)\n"
     ]
    },
    {
     "name": "stdout",
     "output_type": "stream",
     "text": [
      "CountLog_2024-06-13_15-33-58.csv\n",
      "MetaData_2024-06-13_15-33-58.csv\n",
      "CountLog_2024-06-13_18-00-11.csv\n",
      "MetaData_2024-06-13_18-00-11.csv\n",
      "recalculating feed duration for feeds...\n",
      "\n",
      "[--------------------------------------------------------------------------------------------]\n",
      "putting feeds back into countlog...\n",
      "\n",
      "[--------------------------------------------------------------------------------------------------------------------------------------------------------------------------------------------------------------------------------------------------------------------------------------------------------------------------------------------------------------------------------------------------------------------------------------------------------------------------------------------------------------------------------------------------------------------------------------------------------------------------------------------------------------------------------------------------------------------------------------------------------------------------------------------------------------------------------------------------------------------------------------------------------------------------------------------------]\n",
      "plotting PeriFeedDiagonal\n",
      "Detecting Fall Events...\n",
      "\n",
      "[---------]\n",
      "Done\n",
      "Index(['AviFile', 'ChamberID', 'ExperimentState', 'FeedDuration_ms',\n",
      "       'FeedDuration_s', 'FeedSpeed_nl/s', 'FeedVol_nl', 'FeedVol_µl',\n",
      "       'RelativeTime_s', 'Valid', 'FoodChoice', 'FlyCountInChamber',\n",
      "       'Genotype', 'Sex', 'Starved hrs', 'Temperature', 'Tube1', 'Status',\n",
      "       'AverageFeedVolumePerFly_µl', 'AverageFeedCountPerFly',\n",
      "       'AverageFeedSpeedPerFly_µl/s', 'startMonitorIdx', 'startFeedIdx',\n",
      "       'startFeedIdxRevised', 'endFeedIdx', 'endFeedIdxRevised',\n",
      "       'endMonitorIdx', '120beforeFeedSpeed_mm/s', 'duringFeedSpeed_mm/s',\n",
      "       '120afterFeedSpeed_mm/s', 'revisedFeedDuration_s', 'countLogID',\n",
      "       '120duringPercSpeedGain', '120afterPercSpeedGain',\n",
      "       'revisedFeedDuration_min', 'FeedVol_pl', 'Starvedhrs'],\n",
      "      dtype='object')\n",
      "90\n"
     ]
    },
    {
     "data": {
      "image/png": "[encoded data removed]",
      "text/plain": [
       "<Figure size 500x500 with 1 Axes>"
      ]
     },
     "metadata": {},
     "output_type": "display_data"
    }
   ],
   "source": [
    "datapaths = [\n",
    "    # 'RNAi', \n",
    "    # 'Known Feeding Review', \n",
    "    # 'Main 5HT', \n",
    "    'Novel VNC Splits', \n",
    "#     'Intersection', \n",
    "    # 'Females',\n",
    "    # 'Other conditions'\n",
    "             # 'WT'\n",
    "]\n",
    "pickle_path = '/Users/sangyuxu/Library/Mobile Documents/com~apple~CloudDocs/EspressoManu/DataforFigures/Behavior/Data/pickles/'\n",
    "for i in datapaths:\n",
    "    preprocessData('/Users/sangyuxu/Library/Mobile Documents/com~apple~CloudDocs/EspressoManu/DataforFigures/Behavior/Data/'+ i,\n",
    "               pickle_path) "
   ]
  },
  {
   "cell_type": "code",
   "execution_count": null,
   "metadata": {},
   "outputs": [],
   "source": [
    "#| hide\n",
    "import nbdev; nbdev.nbdev_export()"
   ]
  },
  {
   "cell_type": "code",
   "execution_count": null,
   "metadata": {},
   "outputs": [],
   "source": [
    "preprocessData('/Users/sangyuxu/Library/Mobile Documents/com~apple~CloudDocs/EspressoManu/DataforFigures/Behavior/Data/'\n",
    "                   + 'Known Feeding Review',pickle_path) \n"
   ]
  },
  {
   "cell_type": "code",
   "execution_count": null,
   "metadata": {},
   "outputs": [],
   "source": []
  }
 ],
 "metadata": {
  "kernelspec": {
   "display_name": "Python 3 (ipykernel)",
   "language": "python",
   "name": "python3"
  },
  "language_info": {
   "codemirror_mode": {
    "name": "ipython",
    "version": 3
   },
   "file_extension": ".py",
   "mimetype": "text/x-python",
   "name": "python",
   "nbconvert_exporter": "python",
   "pygments_lexer": "ipython3",
   "version": "3.10.16"
  }
 },
 "nbformat": 4,
 "nbformat_minor": 4
}
