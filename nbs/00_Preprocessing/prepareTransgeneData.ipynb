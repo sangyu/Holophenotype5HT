{
 "cells": [
  {
   "cell_type": "code",
   "execution_count": null,
   "id": "4c89f756",
   "metadata": {},
   "outputs": [
    {
     "data": {
      "text/plain": [
       "['FeedLog_2023-04-21_18-30-07.csv',\n",
       " 'MetaData_2023-07-13_16-18-29.csv',\n",
       " 'CountLog_2023-07-13_16-18-27.csv',\n",
       " '.DS_Store',\n",
       " 'PortLocations_2023-07-13_16-18-29.csv',\n",
       " 'MetaData_2023-02-03_15-12-20.csv',\n",
       " 'PortLocations_2023-02-03_15-12-20.csv',\n",
       " 'output',\n",
       " 'CountLog_2023-04-21_18-30-06.csv',\n",
       " '6',\n",
       " 'CountLog_2023-02-03_15-12-16.csv',\n",
       " 'MetaData_2023-04-21_18-30-06.csv',\n",
       " '3_ele.pickle',\n",
       " 'FeedLog_2023-07-13_16-18-29.csv',\n",
       " 'MetaData_2023-04-21_18-30-07.csv',\n",
       " 'MetaData_2023-02-03_15-12-16.csv',\n",
       " '3_e.pickle',\n",
       " 'PortLocations_2023-04-21_18-30-07.csv',\n",
       " '.ipynb_checkpoints',\n",
       " 'FeedLog_2023-02-03_15-12-20.csv',\n",
       " 'TrhVNCCsCh.ipynb',\n",
       " 'MetaData_2023-07-13_16-18-27.csv',\n",
       " '3',\n",
       " 'FeedStats_2023-04-21_18-30-07.csv',\n",
       " '5']"
      ]
     },
     "execution_count": null,
     "metadata": {},
     "output_type": "execute_result"
    }
   ],
   "source": [
    "from esploco import esploco\n",
    "from espresso import espresso\n",
    "import os\n",
    "import dabest\n",
    "import pandas as pd\n",
    "import seaborn as sns\n",
    "import matplotlib.pyplot as plt\n",
    "from matplotlib.gridspec import GridSpec\n",
    "import scipy \n",
    "import numpy as np\n",
    "from matplotlib.patches import Ellipse\n",
    "import matplotlib.transforms as transforms\n",
    "import pickle \n",
    "sns.__version__\n",
    "import esploco.plotTools as plotTools\n",
    "import io\n",
    "# import sklearn\n",
    "plotTools.setFont('Inter', 9)\n",
    "\n",
    "# transgenedatapath = '/Users/sangyuxu/Library/Mobile Documents/com~apple~CloudDocs/EspressoManu/Data/Figure 4 Trh R50H05/validFeeds'\n",
    "\n",
    "transgenedatapath = '/Users/sangyuxu/Library/Mobile Documents/com~apple~CloudDocs/Data Analysis/Espresso/Partial/TrhVNCCsCh'\n",
    "os.listdir(transgenedatapath)"
   ]
  },
  {
   "cell_type": "code",
   "execution_count": null,
   "id": "c688a05b-10ec-422c-9423-3e230e7a876c",
   "metadata": {},
   "outputs": [
    {
     "data": {
      "text/plain": [
       "['1_e.pickle',\n",
       " 'SXVNC2CsChWithin.ipynb',\n",
       " '.DS_Store',\n",
       " 'SXVNC2.ipynb',\n",
       " 'Fed',\n",
       " 'images',\n",
       " '1',\n",
       " 'Starved',\n",
       " '.ipynb_checkpoints',\n",
       " '1_ele.pickle',\n",
       " 'SXVNC2CsCh_ele_LS.csv',\n",
       " 'SXVNC2CsCh_ele.csv']"
      ]
     },
     "execution_count": null,
     "metadata": {},
     "output_type": "execute_result"
    }
   ],
   "source": [
    "os.listdir(transgenedatapath)"
   ]
  },
  {
   "cell_type": "code",
   "execution_count": null,
   "id": "45ed6ee6-196e-4823-a294-0ca436852324",
   "metadata": {},
   "outputs": [
    {
     "name": "stdout",
     "output_type": "stream",
     "text": [
      "/Users/sangyuxu/Library/Mobile Documents/com~apple~CloudDocs/Data Analysis/Espresso/Partial/TrhVNCCsCh/3\n"
     ]
    },
    {
     "name": "stderr",
     "output_type": "stream",
     "text": [
      "/Applications/anaconda3/envs/esplocotest/lib/python3.9/site-packages/espresso/_munger/munger.py:160: FutureWarning: The frame.append method is deprecated and will be removed from pandas in a future version. Use pandas.concat instead.\n",
      "  return f.append(all_padrows, ignore_index=True, sort=False)\n",
      "/Applications/anaconda3/envs/esplocotest/lib/python3.9/site-packages/espresso/_munger/munger.py:302: FutureWarning: The `inplace` parameter in pandas.Categorical.remove_unused_categories is deprecated and will be removed in a future version.\n",
      "  df.loc[:, c].cat.remove_unused_categories(inplace=True)\n",
      "/Applications/anaconda3/envs/esplocotest/lib/python3.9/site-packages/espresso/_munger/munger.py:302: FutureWarning: The `inplace` parameter in pandas.Categorical.remove_unused_categories is deprecated and will be removed in a future version.\n",
      "  df.loc[:, c].cat.remove_unused_categories(inplace=True)\n"
     ]
    },
    {
     "name": "stdout",
     "output_type": "stream",
     "text": [
      "countLog files found: \n",
      "\n",
      "['CountLog_2022-05-12_17-23-37.csv' 'CountLog_2022-05-16_17-08-56.csv'\n",
      " 'CountLog_2022-05-20_12-26-29.csv' 'CountLog_2022-07-20_18-02-42.csv'\n",
      " 'CountLog_2023-02-03_15-12-16.csv' 'CountLog_2023-07-13_16-18-27.csv'\n",
      " 'CountLog_2023-07-19_14-55-36.csv' 'CountLog_2023-07-21_14-35-32.csv']\n",
      "\n",
      "metaData files found: \n",
      "\n",
      "['MetaData_2022-05-12_17-23-37.csv' 'MetaData_2022-05-12_17-23-39.csv'\n",
      " 'MetaData_2022-05-16_17-08-56.csv' 'MetaData_2022-05-16_17-09-00.csv'\n",
      " 'MetaData_2022-05-20_12-26-29.csv' 'MetaData_2022-05-20_12-26-32.csv'\n",
      " 'MetaData_2022-07-20_18-02-42.csv' 'MetaData_2022-07-20_18-02-45.csv'\n",
      " 'MetaData_2023-02-03_15-12-16.csv' 'MetaData_2023-02-03_15-12-20.csv'\n",
      " 'MetaData_2023-07-13_16-18-27.csv' 'MetaData_2023-07-13_16-18-29.csv'\n",
      " 'MetaData_2023-07-19_14-55-36.csv' 'MetaData_2023-07-19_14-55-40.csv'\n",
      " 'MetaData_2023-07-21_14-35-32.csv' 'MetaData_2023-07-21_14-35-36.csv']\n",
      "portLocations files found: \n",
      "\n",
      "['PortLocations_2022-05-12_17-23-39.csv'\n",
      " 'PortLocations_2022-05-16_17-09-00.csv'\n",
      " 'PortLocations_2022-05-20_12-26-32.csv'\n",
      " 'PortLocations_2022-07-20_18-02-45.csv'\n",
      " 'PortLocations_2023-02-03_15-12-20.csv'\n",
      " 'PortLocations_2023-07-13_16-18-29.csv'\n",
      " 'PortLocations_2023-07-19_14-55-40.csv'\n",
      " 'PortLocations_2023-07-21_14-35-36.csv']\n",
      "\n",
      "feedLog files found: \n",
      "\n",
      "['FeedLog_2022-05-12_17-23-39.csv' 'FeedLog_2022-05-16_17-09-00.csv'\n",
      " 'FeedLog_2022-05-20_12-26-32.csv' 'FeedLog_2022-07-20_18-02-45.csv'\n",
      " 'FeedLog_2023-02-03_15-12-20.csv' 'FeedLog_2023-07-13_16-18-29.csv'\n",
      " 'FeedLog_2023-07-19_14-55-40.csv' 'FeedLog_2023-07-21_14-35-36.csv']\n",
      "CountLog_2022-05-12_17-23-37.csv\n",
      "MetaData_2022-05-12_17-23-37.csv\n",
      "CountLog_2022-05-16_17-08-56.csv\n",
      "MetaData_2022-05-16_17-08-56.csv\n",
      "CountLog_2022-05-20_12-26-29.csv\n",
      "MetaData_2022-05-20_12-26-29.csv\n",
      "CountLog_2022-07-20_18-02-42.csv\n",
      "MetaData_2022-07-20_18-02-42.csv\n",
      "CountLog_2023-02-03_15-12-16.csv\n",
      "MetaData_2023-02-03_15-12-16.csv\n",
      "CountLog_2023-07-13_16-18-27.csv\n",
      "MetaData_2023-07-13_16-18-27.csv\n",
      "MetaData is missing IDs [ 7 22 24]\n",
      "CountLog_2023-07-19_14-55-36.csv\n",
      "MetaData_2023-07-19_14-55-36.csv\n",
      "CountLog_2023-07-21_14-35-32.csv\n",
      "MetaData_2023-07-21_14-35-32.csv\n",
      "recalculating feed duration for feeds...\n",
      "\n",
      "[---------------------------------------------------------------------------------------------------------------------------------------------------------------------------------------------------------------------------------------------------------------------]\n",
      "putting feeds back into countlog...\n",
      "\n",
      "[-------------------------------------------------------------------------------------------------------------------------------------------------------------------------------------------------------------------------------------------------------------------------------------------------------------------------------------------------------------------------------------------------------------------------------------------------------------------------------------------------------------------------------------------------------------------------------------------------------------------------------------------------------------------------------------------------------------------------------------------------------------------------------------------------------------------------------------------------------------------------------------------------------------------------------------------------------------------------------------------------------------------------------------------------------------------------------------------------------------------------------------------------------------------------------------------------------------------------------------------------------------------------------------------------------------------------------------------------------------------------------------------------------------------------------------------------------------------------------------------------------------------------------------------------------------------------------------------------------------------------------------------------------------------------------------------------------------------------------------------------------------------------------------------------------------------------------------------------------------------------------------------------------------------------------------------------------------------------------------------------------------------------------------------------------------------------------------------------------------------------------------------------------------------------------------------------------------------------------------------------------------------------------------------------------------------------------------------------------------------------------------------------------------------------------------------------------------------------------------------------------------------------------------------------------------------------------------------------------------------]\n"
     ]
    },
    {
     "name": "stderr",
     "output_type": "stream",
     "text": [
      "findfont: Generic family 'sans-serif' not found because none of the following families were found: Inter\n",
      "findfont: Generic family 'sans-serif' not found because none of the following families were found: Inter\n",
      "findfont: Generic family 'sans-serif' not found because none of the following families were found: Inter\n",
      "findfont: Generic family 'sans-serif' not found because none of the following families were found: Inter\n",
      "findfont: Generic family 'sans-serif' not found because none of the following families were found: Inter\n",
      "findfont: Generic family 'sans-serif' not found because none of the following families were found: Inter\n",
      "findfont: Generic family 'sans-serif' not found because none of the following families were found: Inter\n",
      "findfont: Generic family 'sans-serif' not found because none of the following families were found: Inter\n",
      "findfont: Generic family 'sans-serif' not found because none of the following families were found: Inter\n",
      "findfont: Generic family 'sans-serif' not found because none of the following families were found: Inter\n",
      "findfont: Generic family 'sans-serif' not found because none of the following families were found: Inter\n",
      "findfont: Generic family 'sans-serif' not found because none of the following families were found: Inter\n",
      "findfont: Generic family 'sans-serif' not found because none of the following families were found: Inter\n",
      "findfont: Generic family 'sans-serif' not found because none of the following families were found: Inter\n",
      "findfont: Generic family 'sans-serif' not found because none of the following families were found: Inter\n",
      "findfont: Generic family 'sans-serif' not found because none of the following families were found: Inter\n",
      "findfont: Generic family 'sans-serif' not found because none of the following families were found: Inter\n",
      "findfont: Generic family 'sans-serif' not found because none of the following families were found: Inter\n",
      "findfont: Generic family 'sans-serif' not found because none of the following families were found: Inter\n",
      "findfont: Generic family 'sans-serif' not found because none of the following families were found: Inter\n",
      "findfont: Generic family 'sans-serif' not found because none of the following families were found: Inter\n",
      "findfont: Generic family 'sans-serif' not found because none of the following families were found: Inter\n",
      "findfont: Generic family 'sans-serif' not found because none of the following families were found: Inter\n",
      "findfont: Generic family 'sans-serif' not found because none of the following families were found: Inter\n",
      "findfont: Generic family 'sans-serif' not found because none of the following families were found: Inter\n",
      "findfont: Generic family 'sans-serif' not found because none of the following families were found: Inter\n",
      "findfont: Generic family 'sans-serif' not found because none of the following families were found: Inter\n",
      "findfont: Generic family 'sans-serif' not found because none of the following families were found: Inter\n",
      "findfont: Generic family 'sans-serif' not found because none of the following families were found: Inter\n",
      "findfont: Generic family 'sans-serif' not found because none of the following families were found: Inter\n",
      "findfont: Generic family 'sans-serif' not found because none of the following families were found: Inter\n",
      "findfont: Generic family 'sans-serif' not found because none of the following families were found: Inter\n",
      "findfont: Generic family 'sans-serif' not found because none of the following families were found: Inter\n",
      "findfont: Generic family 'sans-serif' not found because none of the following families were found: Inter\n",
      "findfont: Generic family 'sans-serif' not found because none of the following families were found: Inter\n",
      "findfont: Generic family 'sans-serif' not found because none of the following families were found: Inter\n",
      "findfont: Generic family 'sans-serif' not found because none of the following families were found: Inter\n",
      "findfont: Generic family 'sans-serif' not found because none of the following families were found: Inter\n",
      "findfont: Generic family 'sans-serif' not found because none of the following families were found: Inter\n",
      "findfont: Generic family 'sans-serif' not found because none of the following families were found: Inter\n",
      "findfont: Generic family 'sans-serif' not found because none of the following families were found: Inter\n",
      "findfont: Generic family 'sans-serif' not found because none of the following families were found: Inter\n",
      "findfont: Generic family 'sans-serif' not found because none of the following families were found: Inter\n",
      "findfont: Generic family 'sans-serif' not found because none of the following families were found: Inter\n",
      "findfont: Generic family 'sans-serif' not found because none of the following families were found: Inter\n",
      "findfont: Generic family 'sans-serif' not found because none of the following families were found: Inter\n",
      "findfont: Generic family 'sans-serif' not found because none of the following families were found: Inter\n",
      "findfont: Generic family 'sans-serif' not found because none of the following families were found: Inter\n",
      "findfont: Generic family 'sans-serif' not found because none of the following families were found: Inter\n",
      "findfont: Generic family 'sans-serif' not found because none of the following families were found: Inter\n",
      "findfont: Generic family 'sans-serif' not found because none of the following families were found: Inter\n",
      "findfont: Generic family 'sans-serif' not found because none of the following families were found: Inter\n",
      "findfont: Generic family 'sans-serif' not found because none of the following families were found: Inter\n",
      "findfont: Generic family 'sans-serif' not found because none of the following families were found: Inter\n",
      "findfont: Generic family 'sans-serif' not found because none of the following families were found: Inter\n",
      "findfont: Generic family 'sans-serif' not found because none of the following families were found: Inter\n",
      "findfont: Generic family 'sans-serif' not found because none of the following families were found: Inter\n",
      "findfont: Generic family 'sans-serif' not found because none of the following families were found: Inter\n",
      "findfont: Generic family 'sans-serif' not found because none of the following families were found: Inter\n",
      "findfont: Generic family 'sans-serif' not found because none of the following families were found: Inter\n",
      "findfont: Generic family 'sans-serif' not found because none of the following families were found: Inter\n",
      "findfont: Generic family 'sans-serif' not found because none of the following families were found: Inter\n",
      "findfont: Generic family 'sans-serif' not found because none of the following families were found: Inter\n",
      "findfont: Generic family 'sans-serif' not found because none of the following families were found: Inter\n",
      "findfont: Generic family 'sans-serif' not found because none of the following families were found: Inter\n",
      "findfont: Generic family 'sans-serif' not found because none of the following families were found: Inter\n",
      "findfont: Generic family 'sans-serif' not found because none of the following families were found: Inter\n",
      "findfont: Generic family 'sans-serif' not found because none of the following families were found: Inter\n",
      "findfont: Generic family 'sans-serif' not found because none of the following families were found: Inter\n"
     ]
    },
    {
     "name": "stdout",
     "output_type": "stream",
     "text": [
      "plotting PeriFeedDiagonal\n"
     ]
    },
    {
     "name": "stderr",
     "output_type": "stream",
     "text": [
      "findfont: Generic family 'sans-serif' not found because none of the following families were found: Inter\n",
      "findfont: Generic family 'sans-serif' not found because none of the following families were found: Inter\n",
      "findfont: Generic family 'sans-serif' not found because none of the following families were found: Inter\n",
      "findfont: Generic family 'sans-serif' not found because none of the following families were found: Inter\n",
      "findfont: Generic family 'sans-serif' not found because none of the following families were found: Inter\n",
      "findfont: Generic family 'sans-serif' not found because none of the following families were found: Inter\n",
      "findfont: Generic family 'sans-serif' not found because none of the following families were found: Inter\n",
      "findfont: Generic family 'sans-serif' not found because none of the following families were found: Inter\n",
      "findfont: Generic family 'sans-serif' not found because none of the following families were found: Inter\n",
      "findfont: Generic family 'sans-serif' not found because none of the following families were found: Inter\n",
      "findfont: Generic family 'sans-serif' not found because none of the following families were found: Inter\n",
      "findfont: Generic family 'sans-serif' not found because none of the following families were found: Inter\n",
      "findfont: Generic family 'sans-serif' not found because none of the following families were found: Inter\n",
      "findfont: Generic family 'sans-serif' not found because none of the following families were found: Inter\n",
      "findfont: Generic family 'sans-serif' not found because none of the following families were found: Inter\n",
      "findfont: Generic family 'sans-serif' not found because none of the following families were found: Inter\n",
      "findfont: Generic family 'sans-serif' not found because none of the following families were found: Inter\n",
      "findfont: Generic family 'sans-serif' not found because none of the following families were found: Inter\n",
      "findfont: Generic family 'sans-serif' not found because none of the following families were found: Inter\n",
      "findfont: Generic family 'sans-serif' not found because none of the following families were found: Inter\n",
      "findfont: Generic family 'sans-serif' not found because none of the following families were found: Inter\n",
      "findfont: Generic family 'sans-serif' not found because none of the following families were found: Inter\n",
      "findfont: Generic family 'sans-serif' not found because none of the following families were found: Inter\n",
      "findfont: Generic family 'sans-serif' not found because none of the following families were found: Inter\n",
      "findfont: Generic family 'sans-serif' not found because none of the following families were found: Inter\n",
      "findfont: Generic family 'sans-serif' not found because none of the following families were found: Inter\n",
      "findfont: Generic family 'sans-serif' not found because none of the following families were found: Inter\n",
      "findfont: Generic family 'sans-serif' not found because none of the following families were found: Inter\n",
      "findfont: Generic family 'sans-serif' not found because none of the following families were found: Inter\n",
      "findfont: Generic family 'sans-serif' not found because none of the following families were found: Inter\n",
      "findfont: Generic family 'sans-serif' not found because none of the following families were found: Inter\n",
      "findfont: Generic family 'sans-serif' not found because none of the following families were found: Inter\n",
      "findfont: Generic family 'sans-serif' not found because none of the following families were found: Inter\n",
      "findfont: Generic family 'sans-serif' not found because none of the following families were found: Inter\n",
      "findfont: Generic family 'sans-serif' not found because none of the following families were found: Inter\n",
      "findfont: Generic family 'sans-serif' not found because none of the following families were found: Inter\n",
      "findfont: Generic family 'sans-serif' not found because none of the following families were found: Inter\n",
      "findfont: Generic family 'sans-serif' not found because none of the following families were found: Inter\n",
      "findfont: Generic family 'sans-serif' not found because none of the following families were found: Inter\n",
      "findfont: Generic family 'sans-serif' not found because none of the following families were found: Inter\n",
      "findfont: Generic family 'sans-serif' not found because none of the following families were found: Inter\n"
     ]
    },
    {
     "name": "stdout",
     "output_type": "stream",
     "text": [
      "Detecting Fall Events...\n",
      "\n",
      "[----"
     ]
    }
   ],
   "source": [
    "for i in os.listdir(transgenedatapath)[1::]:\n",
    "    if i == '3':\n",
    "        datapath = transgenedatapath + '/' + i\n",
    "        print(datapath)\n",
    "        e = espresso(datapath, expt_duration_minutes=120)\n",
    "        ele = esploco.esploco(datapath, 0, 120, companionEspObj = e)\n",
    "        ele.calculatePeriFeedSpeed(\n",
    "            e,\n",
    "            monitorWindow=120,\n",
    "            startSeconds=0,plotContrast=False)\n",
    "        ele.calculateFallEvents()\n",
    "        \n",
    "        with open(datapath + '_ele.pickle', 'wb') as f:\n",
    "            # Pickle the 'data' dictionary using the highest protocol available.\n",
    "            pickle.dump(ele, f, pickle.HIGHEST_PROTOCOL)\n",
    "            \n",
    "        with open(datapath + '_e.pickle', 'wb') as f:\n",
    "        # Pickle the 'data' dictionary using the highest protocol available.\n",
    "            pickle.dump(e, f, pickle.HIGHEST_PROTOCOL)"
   ]
  },
  {
   "cell_type": "code",
   "execution_count": null,
   "id": "2670bdc6",
   "metadata": {},
   "outputs": [
    {
     "data": {
      "text/plain": [
       "'/Users/sangyuxu/Library/Mobile Documents/com~apple~CloudDocs/Data Analysis/Espresso/Partial/SXVNC2CsCh/1'"
      ]
     },
     "execution_count": null,
     "metadata": {},
     "output_type": "execute_result"
    }
   ],
   "source": [
    "datapath"
   ]
  },
  {
   "cell_type": "code",
   "execution_count": null,
   "id": "5e73f137-6b7d-47f9-9387-fe626f381bb3",
   "metadata": {},
   "outputs": [
    {
     "name": "stdout",
     "output_type": "stream",
     "text": [
      "1_ele.pickle\n",
      "150\n",
      "150\n",
      "4_ele.pickle\n",
      "60\n",
      "60\n"
     ]
    }
   ],
   "source": [
    "filelist = os.listdir(transgenedatapath)\n",
    "\n",
    "for i in filelist:\n",
    "    if 'ele.pickle' in i:\n",
    "        with open(transgenedatapath+ '/' + i, 'rb') as f:\n",
    "            results = pickle.load(f).resultsDf\n",
    "            print(i)\n",
    "            print(len(results))\n",
    "            data = results[['Temperature', 'Genotype', 'Status', 'ID', 'Starvedhrs', 'MealSizePerFly_µL',\n",
    "       'AverageFeedSpeedPerFly_µl/s', 'MeanSpeed120sBeforeFeed_mm/s',\n",
    "       'MeanSpeedDuringFeed_mm/s', 'MeanSpeed120sAfterFeed_mm/s',\n",
    "       'MeanMealDurationPerFly_s', 'AverageFeedVolumePerFly_µl', 'AverageFeedCountPerFly',\n",
    "       'AverageFeedDurationPerFly_min', 'Latency_min',\n",
    "       'duringBeforeSpeedRatio', 'afterBeforeSpeedRatio',\n",
    "        'averageSpeed_mm/s', 'yPosition_mm', 'inLeftPort', 'inRightPort',\n",
    "                            'falls',\n",
    "                            'feedLogDate']]\n",
    "            renamecolumns = {'Starvedhrs': 'Starvation', \n",
    "                 'MealSizePerFly_µL': 'Meal Size',\n",
    "       'AverageFeedSpeedPerFly_µl/s' :'Feed Speed', \n",
    "                 'MeanSpeed120sBeforeFeed_mm/s': 'Prefeed Speed',\n",
    "       'MeanSpeedDuringFeed_mm/s': 'Duringfeed Speed', \n",
    "                 'MeanSpeed120sAfterFeed_mm/s': 'Postfeed Speed',\n",
    "       'MeanMealDurationPerFly_s': 'Meal Duration',\n",
    "                 'AverageFeedVolumePerFly_µl': 'Volume', \n",
    "                 'AverageFeedCountPerFly': 'Count',\n",
    "       'AverageFeedDurationPerFly_min': 'Duration', \n",
    "                 'Latency_min':'Latency',\n",
    "       'duringBeforeSpeedRatio' : 'Duringfeed Speed Ratio',\n",
    "                 'afterBeforeSpeedRatio': 'Perifeed Speed Ratio',\n",
    "        'averageSpeed_mm/s' : 'Speed', \n",
    "                 'yPosition_mm': 'Height', \n",
    "                 'inLeftPort': 'Food Port Occupancy', \n",
    "                 'inRightPort': 'Ctrl Port Occupancy',\n",
    "                 'falls': 'Falls', \n",
    "                             'feedLogDate':'date' , 'Temperature': 'Light'}\n",
    "\n",
    "            data = data.rename(columns = renamecolumns)\n",
    "            data = data.drop(data.loc[data['Genotype']== 'Empty'].index, axis = 0)\n",
    "\n",
    "            # data = data.drop(data.loc[np.isnan(data['Starvation'])].index, axis = 0)\n",
    "            print(len(data))\n",
    "            data.to_csv(transgenedatapath+ '/' + i.split('_')[0] + '_ele.csv', index = False)"
   ]
  },
  {
   "cell_type": "code",
   "execution_count": null,
   "id": "8dc98013",
   "metadata": {},
   "outputs": [
    {
     "data": {
      "text/plain": [
       "'/Users/sangyuxu/Library/Mobile Documents/com~apple~CloudDocs/Data Analysis/Espresso/Partial/NPFChrimson'"
      ]
     },
     "execution_count": null,
     "metadata": {},
     "output_type": "execute_result"
    }
   ],
   "source": [
    "transgenedatapath"
   ]
  },
  {
   "cell_type": "code",
   "execution_count": null,
   "id": "537e013a-9f9d-4836-ad84-9b4165fdac8d",
   "metadata": {},
   "outputs": [],
   "source": [
    "with open(transgenedatapath+ '/' + '3_e.pickle', 'rb') as f:\n",
    "            e = pickle.load(f)\n",
    "with open(transgenedatapath+ '/' + '3_ele.pickle', 'rb') as f:\n",
    "            ele = pickle.load(f)"
   ]
  },
  {
   "cell_type": "code",
   "execution_count": null,
   "id": "e69524df-a856-4adf-b624-d1808864d7ff",
   "metadata": {},
   "outputs": [
    {
     "data": {
      "text/plain": [
       "Index(['ChamberID', 'countLogID', 'AviFile', 'ExperimentState', 'Tube1',\n",
       "       'startMonitorIdx', 'startFeedIdx', 'startFeedIdxRevised', 'endFeedIdx',\n",
       "       'endFeedIdxRevised', 'endMonitorIdx', 'Latency_min', 'Starved hrs',\n",
       "       'MealSizePerFly_µL', 'AverageFeedSpeedPerFly_µl/s',\n",
       "       'MeanSpeed120sBeforeFeed_mm/s', 'MeanSpeedDuringFeed_mm/s',\n",
       "       'MeanSpeed120sAfterFeed_mm/s', 'MeanMealDurationPerFly_s',\n",
       "       'AverageFeedVolumePerFly_µl', 'AverageFeedCountPerFly',\n",
       "       'AverageFeedDurationPerFly_min', 'FeedVol_pl', 'duringBeforeSpeedRatio',\n",
       "       'afterBeforeSpeedRatio', 'ID', 'Status', 'Genotype', 'Sex',\n",
       "       'MinimumAge', 'MaximumAge', 'Food1', 'Food2', 'Temperature', '#Flies',\n",
       "       'Starvedhrs', 'Date', 'averageSpeed_mm/s', 'xPosition_mm',\n",
       "       'yPosition_mm', 'inLeftPort', 'inRightPort', 'countLogDate',\n",
       "       'feedLogDate', 'falls'],\n",
       "      dtype='object')"
      ]
     },
     "execution_count": null,
     "metadata": {},
     "output_type": "execute_result"
    }
   ],
   "source": [
    "ele.resultsDf.columns"
   ]
  },
  {
   "cell_type": "code",
   "execution_count": null,
   "id": "37a55d17-e369-4fc1-baef-55144d41b1d1",
   "metadata": {},
   "outputs": [
    {
     "data": {
      "text/plain": [
       "'/Users/sangyuxu/Library/Mobile Documents/com~apple~CloudDocs/Data Analysis/Espresso/Partial/SXVNC1CsCh/.ipynb_ele.csv'"
      ]
     },
     "execution_count": null,
     "metadata": {},
     "output_type": "execute_result"
    }
   ],
   "source": [
    "transgenedatapath+ '/' + i.split('_')[0] + '_ele.csv'"
   ]
  },
  {
   "cell_type": "code",
   "execution_count": null,
   "id": "b0a0376c-4e0e-4e95-9fc6-076e1a8cf5c3",
   "metadata": {},
   "outputs": [],
   "source": []
  }
 ],
 "metadata": {
  "kernelspec": {
   "display_name": "python3",
   "language": "python",
   "name": "python3"
  }
 },
 "nbformat": 4,
 "nbformat_minor": 5
}
